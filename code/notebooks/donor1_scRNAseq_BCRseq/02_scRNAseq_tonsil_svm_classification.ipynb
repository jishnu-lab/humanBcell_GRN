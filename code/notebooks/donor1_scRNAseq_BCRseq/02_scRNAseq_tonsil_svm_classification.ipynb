{
 "cells": [
  {
   "cell_type": "code",
   "execution_count": 1,
   "id": "86a83cac-8c52-40bf-9f92-b2a966ee6c8e",
   "metadata": {},
   "outputs": [
    {
     "name": "stderr",
     "output_type": "stream",
     "text": [
      "/media/RAIDArray/Nick/miniconda3/envs/mira-env/lib/python3.9/site-packages/tqdm/auto.py:21: TqdmWarning: IProgress not found. Please update jupyter and ipywidgets. See https://ipywidgets.readthedocs.io/en/stable/user_install.html\n",
      "  from .autonotebook import tqdm as notebook_tqdm\n"
     ]
    }
   ],
   "source": [
    "import h5py\n",
    "import scanpy as sc\n",
    "import scipy\n",
    "import mira\n",
    "import pandas as pd\n",
    "import numpy as np\n",
    "import seaborn as sns\n",
    "import matplotlib.pyplot as plt\n",
    "import scipy.stats as stats"
   ]
  },
  {
   "cell_type": "code",
   "execution_count": 2,
   "id": "ca0b6623-4fad-40b1-9ec9-d4abe8c6b8e9",
   "metadata": {},
   "outputs": [],
   "source": [
    "plt.rcParams['pdf.fonttype'] = 42\n",
    "plt.rcParams['ps.fonttype'] = 42"
   ]
  },
  {
   "cell_type": "markdown",
   "id": "072549c0-bde8-49e5-b9da-26a8573e9aa2",
   "metadata": {},
   "source": [
    "# SVM Human Tonsil Atlas classification"
   ]
  },
  {
   "cell_type": "code",
   "execution_count": 3,
   "id": "e695351f-6def-4884-ad81-e0fb96bdbc50",
   "metadata": {},
   "outputs": [
    {
     "data": {
      "text/plain": [
       "AnnData object with n_obs × n_vars = 25237 × 20921\n",
       "    obs: 'Classification', 'n_genes', 'n_genes_by_counts', 'total_counts', 'total_counts_mt', 'pct_counts_mt', 'topic_0', 'topic_1', 'topic_2', 'topic_3', 'topic_4', 'topic_5', 'topic_6', 'topic_7', 'topic_8', 'topic_9', 'topic_10', 'topic_11', 'topic_12', 'topic_13', 'topic_14', 'topic_15', 'topic_16', 'topic_17', 'topic_18', 'topic_19', 'leiden'\n",
       "    var: 'gene_ids', 'feature_types', 'genome', 'n_cells', 'mt', 'n_cells_by_counts', 'mean_counts', 'pct_dropout_by_counts', 'total_counts', 'highly_variable', 'means', 'dispersions', 'dispersions_norm', 'exog', 'endog'\n",
       "    uns: 'Classification_colors', 'hvg', 'leiden', 'leiden_colors', 'log1p', 'neighbors', 'topic_dendogram', 'umap'\n",
       "    obsm: 'X_topic_compositions', 'X_umap', 'X_umap_features'\n",
       "    varm: 'topic_feature_activations', 'topic_feature_compositions'\n",
       "    layers: 'counts'\n",
       "    obsp: 'connectivities', 'distances'"
      ]
     },
     "execution_count": 3,
     "metadata": {},
     "output_type": "execute_result"
    }
   ],
   "source": [
    "adata_donor = sc.read_h5ad('/media/RAIDArray/JingyuFan/projects/human_B_cell/scRNA_220830/human_B_cell_scRNA_seq_220831/outs/human_B_cell_scRNA_seq_230327.umap.leiden_clusters.h5ad')\n",
    "\n",
    "# Check aggregated file\n",
    "adata_donor"
   ]
  },
  {
   "cell_type": "code",
   "execution_count": 4,
   "id": "56badced-b3e3-47c5-abc5-53d2605ea86b",
   "metadata": {},
   "outputs": [
    {
     "name": "stderr",
     "output_type": "stream",
     "text": [
      "/ix/djishnu/peasena/miniconda3/envs/mira-env/lib/python3.9/site-packages/anndata/compat/__init__.py:329: FutureWarning: Moving element from .uns['neighbors']['distances'] to .obsp['distances'].\n",
      "\n",
      "This is where adjacency matrices should go now.\n",
      "  warn(\n"
     ]
    },
    {
     "data": {
      "text/plain": [
       "AnnData object with n_obs × n_vars = 68749 × 2000\n",
       "    obs: 'barcode', 'donor_id', 'gem_id', 'library_name', 'assay', 'sex', 'age', 'age_group', 'hospital', 'cohort_type', 'cause_for_tonsillectomy', 'is_hashed', 'preservation', 'nCount_RNA', 'nFeature_RNA', 'pct_mt', 'pct_ribosomal', 'pDNN_hashing', 'pDNN_scrublet', 'pDNN_union', 'scrublet_doublet_scores', 'S.Score', 'G2M.Score', 'Phase', 'scrublet_predicted_doublet', 'doublet_score_scDblFinder', 'annotation_level_1', 'annotation_level_1_probability', 'annotation_figure_1', 'annotation_20220215', 'annotation_20220619', 'annotation_20230508', 'annotation_20230508_probability', 'UMAP_1_level_1', 'UMAP_2_level_1', 'UMAP_1_20220215', 'UMAP_2_20220215', 'UMAP_1_20230508', 'UMAP_2_20230508', 'type', 'nCount_ATAC', 'nFeature_ATAC', 'RNA.weight', 'ATAC.weight', 'nucleosome_signal', 'nucleosome_percentile', 'TSS.enrichment', 'TSS.percentile'\n",
       "    var: 'vst.mean', 'vst.variance', 'vst.variance.expected', 'vst.variance.standardized', 'vst.variable'\n",
       "    uns: 'neighbors'\n",
       "    obsm: 'X_harmony_rna', 'X_pca', 'X_umap'\n",
       "    varm: 'PCs'\n",
       "    obsp: 'distances'"
      ]
     },
     "execution_count": 4,
     "metadata": {},
     "output_type": "execute_result"
    }
   ],
   "source": [
    "adata_tonsil = sc.read_h5ad('/ix/cigcore/sbg57/multiome/tonsil_atlas/seurat_object.h5ad') # we convert 'annotation_figure_1' to 'Classifcation' in steps below\n",
    "\n",
    "# Check aggregated file\n",
    "adata_tonsil"
   ]
  },
  {
   "cell_type": "code",
   "execution_count": 8,
   "id": "3feaffa9-0045-4523-b080-df24fc299493",
   "metadata": {},
   "outputs": [
    {
     "data": {
      "text/plain": [
       "array(['discovery_multiome', 'validation_multiome'], dtype=object)"
      ]
     },
     "execution_count": 8,
     "metadata": {},
     "output_type": "execute_result"
    }
   ],
   "source": [
    "adata_tonsil.obs['type'].unique()"
   ]
  },
  {
   "cell_type": "code",
   "execution_count": 31,
   "id": "120ee24e-a804-400d-bc45-8d029abd4fe3",
   "metadata": {},
   "outputs": [
    {
     "data": {
      "text/plain": [
       "Index(['batch', 'n_genes', 'n_genes_by_counts', 'total_counts',\n",
       "       'total_counts_mt', 'pct_counts_mt', 'doublet_score',\n",
       "       'predicted_doublet', 'leiden', 'Tag', 'Classification',\n",
       "       'leiden_res_0.10', 'leiden_res_0.25', 'leiden_res_0.50', 'modality'],\n",
       "      dtype='object')"
      ]
     },
     "execution_count": 31,
     "metadata": {},
     "output_type": "execute_result"
    }
   ],
   "source": [
    "# processed object already has mapping tags to transfer Classification\n",
    "adata_tonsil_1 = sc.read_h5ad('/ix/cigcore/sbg57/multiome/tonsil_atlas/bc_tonsil_processed.h5ad')\n",
    "\n",
    "# Check aggregated file\n",
    "adata_tonsil_1.obs.columns"
   ]
  },
  {
   "cell_type": "code",
   "execution_count": 32,
   "id": "40db009c-3bcb-4074-b90f-985bdf153505",
   "metadata": {},
   "outputs": [
    {
     "data": {
      "text/plain": [
       "['NBC', 'GCBC', 'MBC', 'PC', 'Activated NBC']\n",
       "Categories (5, object): ['Activated NBC', 'GCBC', 'MBC', 'NBC', 'PC']"
      ]
     },
     "execution_count": 32,
     "metadata": {},
     "output_type": "execute_result"
    }
   ],
   "source": [
    "# annotations from 'annotation_figure_1' - coarse annotations\n",
    "adata_tonsil_1.obs['Classification'].unique()"
   ]
  },
  {
   "cell_type": "code",
   "execution_count": 33,
   "id": "91bbcfa0-fdff-4c29-bc33-5e7c75896539",
   "metadata": {},
   "outputs": [
    {
     "data": {
      "text/plain": [
       "AnnData object with n_obs × n_vars = 21699 × 25600\n",
       "    obs: 'batch', 'n_genes', 'n_genes_by_counts', 'total_counts', 'total_counts_mt', 'pct_counts_mt', 'doublet_score', 'predicted_doublet', 'leiden', 'Tag', 'Classification', 'leiden_res_0.10', 'leiden_res_0.25', 'leiden_res_0.50', 'modality'\n",
       "    var: 'gene_ids', 'feature_types', 'n_cells', 'mt', 'n_cells_by_counts', 'mean_counts', 'pct_dropout_by_counts', 'total_counts', 'highly_variable', 'means', 'dispersions', 'dispersions_norm'\n",
       "    uns: 'batch_colors', 'dendrogram_leiden_res_0.10', 'hvg', 'leiden', 'leiden_colors', 'leiden_res_0.10', 'leiden_res_0.10_colors', 'leiden_res_0.25', 'leiden_res_0.25_colors', 'leiden_res_0.50', 'leiden_res_0.50_colors', 'log1p', 'neighbors', 'pca', 'rank_genes_groups', 'umap'\n",
       "    obsm: 'X_pca', 'X_pca_harmony', 'X_umap'\n",
       "    varm: 'PCs'\n",
       "    layers: 'counts'\n",
       "    obsp: 'connectivities', 'distances'"
      ]
     },
     "execution_count": 33,
     "metadata": {},
     "output_type": "execute_result"
    }
   ],
   "source": [
    "adata_tonsil_1"
   ]
  },
  {
   "cell_type": "code",
   "execution_count": 34,
   "id": "824ec90c-37af-4a18-b969-b0a86cf72c04",
   "metadata": {},
   "outputs": [
    {
     "name": "stdout",
     "output_type": "stream",
     "text": [
      "                                                       batch  n_genes  \\\n",
      "in_vivo_male_child_AAACAGCCAGTAGGTG-1  in_vivo_male_child_1a     1683   \n",
      "in_vivo_male_child_AAACAGCCATTATGCG-1  in_vivo_male_child_1a     1599   \n",
      "in_vivo_male_child_AAACAGCCATTTAAGC-1  in_vivo_male_child_1a     3129   \n",
      "in_vivo_male_child_AAACATGCAAATTCGT-1  in_vivo_male_child_1a     2081   \n",
      "in_vivo_male_child_AAACATGCAACGTGCT-1  in_vivo_male_child_1a     1569   \n",
      "\n",
      "                                       n_genes_by_counts  total_counts  \\\n",
      "in_vivo_male_child_AAACAGCCAGTAGGTG-1               1682        3270.0   \n",
      "in_vivo_male_child_AAACAGCCATTATGCG-1               1599        2955.0   \n",
      "in_vivo_male_child_AAACAGCCATTTAAGC-1               3129        8203.0   \n",
      "in_vivo_male_child_AAACATGCAAATTCGT-1               2080        4358.0   \n",
      "in_vivo_male_child_AAACATGCAACGTGCT-1               1568        3095.0   \n",
      "\n",
      "                                       total_counts_mt  pct_counts_mt  \\\n",
      "in_vivo_male_child_AAACAGCCAGTAGGTG-1            208.0       6.360857   \n",
      "in_vivo_male_child_AAACAGCCATTATGCG-1            126.0       4.263959   \n",
      "in_vivo_male_child_AAACAGCCATTTAAGC-1            214.0       2.608802   \n",
      "in_vivo_male_child_AAACATGCAAATTCGT-1            124.0       2.845342   \n",
      "in_vivo_male_child_AAACATGCAACGTGCT-1            132.0       4.264943   \n",
      "\n",
      "                                       doublet_score predicted_doublet leiden  \\\n",
      "in_vivo_male_child_AAACAGCCAGTAGGTG-1       0.033443             False      0   \n",
      "in_vivo_male_child_AAACAGCCATTATGCG-1       0.047786             False      0   \n",
      "in_vivo_male_child_AAACAGCCATTTAAGC-1       0.076923             False     14   \n",
      "in_vivo_male_child_AAACATGCAAATTCGT-1       0.017813             False      4   \n",
      "in_vivo_male_child_AAACATGCAACGTGCT-1       0.031406             False      0   \n",
      "\n",
      "                                                      Tag Classification  \\\n",
      "in_vivo_male_child_AAACAGCCAGTAGGTG-1  AAACAGCCAGTAGGTG-1            NBC   \n",
      "in_vivo_male_child_AAACAGCCATTATGCG-1  AAACAGCCATTATGCG-1            NBC   \n",
      "in_vivo_male_child_AAACAGCCATTTAAGC-1  AAACAGCCATTTAAGC-1           GCBC   \n",
      "in_vivo_male_child_AAACATGCAAATTCGT-1  AAACATGCAAATTCGT-1            MBC   \n",
      "in_vivo_male_child_AAACATGCAACGTGCT-1  AAACATGCAACGTGCT-1            NBC   \n",
      "\n",
      "                                      leiden_res_0.10 leiden_res_0.25  \\\n",
      "in_vivo_male_child_AAACAGCCAGTAGGTG-1               0               0   \n",
      "in_vivo_male_child_AAACAGCCATTATGCG-1               0               0   \n",
      "in_vivo_male_child_AAACAGCCATTTAAGC-1               1               2   \n",
      "in_vivo_male_child_AAACATGCAAATTCGT-1               0               0   \n",
      "in_vivo_male_child_AAACATGCAACGTGCT-1               0               0   \n",
      "\n",
      "                                      leiden_res_0.50 modality  \n",
      "in_vivo_male_child_AAACAGCCAGTAGGTG-1               0   tonsil  \n",
      "in_vivo_male_child_AAACAGCCATTATGCG-1               0   tonsil  \n",
      "in_vivo_male_child_AAACAGCCATTTAAGC-1               4   tonsil  \n",
      "in_vivo_male_child_AAACATGCAAATTCGT-1               2   tonsil  \n",
      "in_vivo_male_child_AAACATGCAACGTGCT-1               0   tonsil  \n"
     ]
    }
   ],
   "source": [
    "# Add a new column \"Classification\" and extract everything after the last '_'\n",
    "adata_tonsil_1.obs['Tag'] = adata_tonsil_1.obs.index.str.split('_').str[-1]\n",
    "\n",
    "# Confirm the addition\n",
    "print(adata_tonsil_1.obs.head())"
   ]
  },
  {
   "cell_type": "code",
   "execution_count": 35,
   "id": "986e7f80-ec70-4c81-8d3e-b9547f2f72b4",
   "metadata": {},
   "outputs": [
    {
     "name": "stdout",
     "output_type": "stream",
     "text": [
      "Required columns are missing in one of the objects.\n"
     ]
    }
   ],
   "source": [
    "# this step uses cell index tags/batch to transfer the Classfication column from seurat object\n",
    "# Ensure required columns exist in both datasets\n",
    "if all(col in adata_tonsil_1.obs.columns for col in ['Tag', 'batch']) and \\\n",
    "   all(col in adata_tonsil.obs.columns for col in ['Tag', 'donor_id', 'annotation_figure_1']):\n",
    "    \n",
    "    # Create a mapping for rows in adata_invivo that match the donor_id condition\n",
    "    annotation_map = adata_tonsil_1.obs.loc[\n",
    "        adata_tonsil_1.obs['donor_id'] == 'BCLL-8-T', ['Tag', 'annotation_figure_1']\n",
    "    ].set_index('Tag')['annotation_figure_1'].to_dict()\n",
    "\n",
    "    # Apply mapping to the Classification column in adata\n",
    "    adata_tonsil.obs['Classification'] = adata_tonsil.obs.apply(\n",
    "        lambda row: annotation_map[row['Tag']] \n",
    "        if row['batch'] == 'in_vivo_male_child_1a' and row['Tag'] in annotation_map \n",
    "        else row.get('Classification', None), \n",
    "        axis=1\n",
    "    )\n",
    "\n",
    "    # Display rows updated for validation\n",
    "    print(adata_tonsil_1.obs.loc[adata_tonsil_1.obs['Classification'].notna()])\n",
    "else:\n",
    "    print(\"Required columns are missing in one of the objects.\")\n"
   ]
  },
  {
   "cell_type": "code",
   "execution_count": 36,
   "id": "2c469bb8-e853-465f-ae81-d027c1bcf43f",
   "metadata": {},
   "outputs": [
    {
     "data": {
      "text/plain": [
       "Index(['batch', 'n_genes', 'n_genes_by_counts', 'total_counts',\n",
       "       'total_counts_mt', 'pct_counts_mt', 'doublet_score',\n",
       "       'predicted_doublet', 'leiden', 'Tag', 'Classification',\n",
       "       'leiden_res_0.10', 'leiden_res_0.25', 'leiden_res_0.50', 'modality'],\n",
       "      dtype='object')"
      ]
     },
     "execution_count": 36,
     "metadata": {},
     "output_type": "execute_result"
    }
   ],
   "source": [
    "adata_tonsil_1.obs.columns"
   ]
  },
  {
   "cell_type": "code",
   "execution_count": 37,
   "id": "d392bb3c-907e-4bdf-9cc4-b485f451a3ef",
   "metadata": {},
   "outputs": [
    {
     "ename": "AttributeError",
     "evalue": "'DataFrame' object has no attribute 'highly_variable'",
     "output_type": "error",
     "traceback": [
      "\u001b[0;31m---------------------------------------------------------------------------\u001b[0m",
      "\u001b[0;31mAttributeError\u001b[0m                            Traceback (most recent call last)",
      "\u001b[0;32m/scratch/slurm-5044986/ipykernel_930/2539710772.py\u001b[0m in \u001b[0;36m?\u001b[0;34m()\u001b[0m\n\u001b[0;32m----> 6\u001b[0;31m \u001b[0;31m# Assuming adata_invitro and adata_invivo are your two datasets\u001b[0m\u001b[0;34m\u001b[0m\u001b[0;34m\u001b[0m\u001b[0m\n\u001b[0m\u001b[1;32m      7\u001b[0m \u001b[0;31m#sc.pp.highly_variable_genes(adata_donor)\u001b[0m\u001b[0;34m\u001b[0m\u001b[0;34m\u001b[0m\u001b[0m\n\u001b[1;32m      8\u001b[0m \u001b[0;31m#sc.pp.highly_variable_genes(adata_tonsil_1)\u001b[0m\u001b[0;34m\u001b[0m\u001b[0;34m\u001b[0m\u001b[0m\n\u001b[1;32m      9\u001b[0m \u001b[0;34m\u001b[0m\u001b[0m\n",
      "\u001b[0;32m/ix/djishnu/peasena/miniconda3/envs/mira-env/lib/python3.9/site-packages/pandas/core/generic.py\u001b[0m in \u001b[0;36m?\u001b[0;34m(self, name)\u001b[0m\n\u001b[1;32m   6292\u001b[0m             \u001b[0;32mand\u001b[0m \u001b[0mname\u001b[0m \u001b[0;32mnot\u001b[0m \u001b[0;32min\u001b[0m \u001b[0mself\u001b[0m\u001b[0;34m.\u001b[0m\u001b[0m_accessors\u001b[0m\u001b[0;34m\u001b[0m\u001b[0;34m\u001b[0m\u001b[0m\n\u001b[1;32m   6293\u001b[0m             \u001b[0;32mand\u001b[0m \u001b[0mself\u001b[0m\u001b[0;34m.\u001b[0m\u001b[0m_info_axis\u001b[0m\u001b[0;34m.\u001b[0m\u001b[0m_can_hold_identifiers_and_holds_name\u001b[0m\u001b[0;34m(\u001b[0m\u001b[0mname\u001b[0m\u001b[0;34m)\u001b[0m\u001b[0;34m\u001b[0m\u001b[0;34m\u001b[0m\u001b[0m\n\u001b[1;32m   6294\u001b[0m         ):\n\u001b[1;32m   6295\u001b[0m             \u001b[0;32mreturn\u001b[0m \u001b[0mself\u001b[0m\u001b[0;34m[\u001b[0m\u001b[0mname\u001b[0m\u001b[0;34m]\u001b[0m\u001b[0;34m\u001b[0m\u001b[0;34m\u001b[0m\u001b[0m\n\u001b[0;32m-> 6296\u001b[0;31m         \u001b[0;32mreturn\u001b[0m \u001b[0mobject\u001b[0m\u001b[0;34m.\u001b[0m\u001b[0m__getattribute__\u001b[0m\u001b[0;34m(\u001b[0m\u001b[0mself\u001b[0m\u001b[0;34m,\u001b[0m \u001b[0mname\u001b[0m\u001b[0;34m)\u001b[0m\u001b[0;34m\u001b[0m\u001b[0;34m\u001b[0m\u001b[0m\n\u001b[0m",
      "\u001b[0;31mAttributeError\u001b[0m: 'DataFrame' object has no attribute 'highly_variable'"
     ]
    }
   ],
   "source": [
    "# Assuming adata_invitro and adata_invivo are your two datasets\n",
    "sc.pp.highly_variable_genes(adata_donor)\n",
    "sc.pp.highly_variable_genes(adata_tonsil_1)\n",
    "\n",
    "# Use only highly variable genes in both datasets\n",
    "adata_donor = adata_donor[:, adata_donor.var.highly_variable]\n",
    "adata_tonsil_1 = adata_tonsil_1[:, adata_tonsil_1.var.highly_variable]"
   ]
  },
  {
   "cell_type": "code",
   "execution_count": 38,
   "id": "ea41eb95-fe30-4b62-bb0e-17764cb67a22",
   "metadata": {},
   "outputs": [],
   "source": [
    "# Get the common genes between the two datasets\n",
    "common_genes = adata_donor.var_names.intersection(adata_tonsil_1.var_names)\n",
    "\n",
    "# Subset both datasets to have the same features\n",
    "adata_donor = adata_donor[:, common_genes]\n",
    "adata_tonsil_1 = adata_tonsil_1[:, common_genes]"
   ]
  },
  {
   "cell_type": "code",
   "execution_count": 39,
   "id": "7e1133ae-0d79-46be-8d6c-b7bc329b1fd7",
   "metadata": {},
   "outputs": [
    {
     "data": {
      "text/plain": [
       "View of AnnData object with n_obs × n_vars = 21699 × 22482\n",
       "    obs: 'batch', 'n_genes', 'n_genes_by_counts', 'total_counts', 'total_counts_mt', 'pct_counts_mt', 'doublet_score', 'predicted_doublet', 'leiden', 'Tag', 'Classification', 'leiden_res_0.10', 'leiden_res_0.25', 'leiden_res_0.50', 'modality'\n",
       "    var: 'gene_ids', 'feature_types', 'n_cells', 'mt', 'n_cells_by_counts', 'mean_counts', 'pct_dropout_by_counts', 'total_counts', 'highly_variable', 'means', 'dispersions', 'dispersions_norm'\n",
       "    uns: 'batch_colors', 'dendrogram_leiden_res_0.10', 'hvg', 'leiden', 'leiden_colors', 'leiden_res_0.10', 'leiden_res_0.10_colors', 'leiden_res_0.25', 'leiden_res_0.25_colors', 'leiden_res_0.50', 'leiden_res_0.50_colors', 'log1p', 'neighbors', 'pca', 'rank_genes_groups', 'umap'\n",
       "    obsm: 'X_pca', 'X_pca_harmony', 'X_umap'\n",
       "    varm: 'PCs'\n",
       "    layers: 'counts'\n",
       "    obsp: 'connectivities', 'distances'"
      ]
     },
     "execution_count": 39,
     "metadata": {},
     "output_type": "execute_result"
    }
   ],
   "source": [
    "adata_tonsil_1"
   ]
  },
  {
   "cell_type": "code",
   "execution_count": 40,
   "id": "81ec91fb-6e35-414f-841f-efd7cd921139",
   "metadata": {},
   "outputs": [],
   "source": [
    "adata_tonsil = adata_tonsil_1"
   ]
  },
  {
   "cell_type": "code",
   "execution_count": 14,
   "id": "efb489ce-4342-4adc-be39-9def8b4b9e18",
   "metadata": {
    "scrolled": true
   },
   "outputs": [
    {
     "name": "stderr",
     "output_type": "stream",
     "text": [
      "/scratch/slurm-1081423/ipykernel_440/3392752344.py:43: ImplicitModificationWarning: Trying to modify attribute `.obs` of view, initializing view as actual.\n",
      "  adata_donor.obs[\"predicted_labels\"] = final_predictions\n"
     ]
    },
    {
     "name": "stdout",
     "output_type": "stream",
     "text": [
      "                   leiden predicted_labels\n",
      "AAACCTGAGAATAGGG-1      1    Activated NBC\n",
      "AAACCTGAGACAGACC-1      6              MBC\n",
      "AAACCTGAGACCTAGG-1      1    Activated NBC\n",
      "AAACCTGAGACGCAAC-1      1             GCBC\n",
      "AAACCTGAGAGCTATA-1      0               PC\n"
     ]
    }
   ],
   "source": [
    "from sklearn.svm import SVC\n",
    "from sklearn.preprocessing import StandardScaler\n",
    "import numpy as np\n",
    "import pandas as pd\n",
    "\n",
    "# Extract data and labels from AnnData objects\n",
    "X_train = adata_tonsil.X.toarray() if not isinstance(adata_tonsil.X, np.ndarray) else adata_tonsil.X\n",
    "y_train = adata_tonsil.obs[\"Classification\"]  # Replace with the correct label column\n",
    "X_test = adata_donor.X.toarray() if not isinstance(adata_donor.X, np.ndarray) else adata_donor.X\n",
    "#y_test = adata_donor.obs[\"leiden\"]  # don't need this\n",
    "\n",
    "# Scale the data\n",
    "scaler = StandardScaler()\n",
    "X_train_scaled = scaler.fit_transform(X_train)\n",
    "X_test_scaled = scaler.transform(X_test)\n",
    "\n",
    "# Train SVM with probability=True\n",
    "# linear works (change to rbf if need be)\n",
    "svm = SVC(kernel=\"linear\", probability=True, random_state=42)\n",
    "svm.fit(X_train_scaled, y_train)\n",
    "\n",
    "# Predict probabilities on the test set\n",
    "probabilities = svm.predict_proba(X_test_scaled)\n",
    "\n",
    "# Set a threshold\n",
    "threshold = 0.01  # Confidence level\n",
    "predicted_labels = svm.predict(X_test_scaled)\n",
    "max_probabilities = probabilities.max(axis=1)\n",
    "\n",
    "# Replace low-confidence predictions with \"NA\"\n",
    "final_predictions = [\n",
    "    label if max_prob >= threshold else \"NA\"\n",
    "    for label, max_prob in zip(predicted_labels, max_probabilities)\n",
    "]\n",
    "\n",
    "# Convert probabilities to a pandas DataFrame\n",
    "probabilities_df = pd.DataFrame(\n",
    "    probabilities,\n",
    "    columns=[f\"prob_{cls}\" for cls in svm.classes_],  # Column names based on classes\n",
    "    index=adata_donor.obs.index  # Ensure alignment with AnnData index\n",
    ")\n",
    "\n",
    "# Add the final predictions to the adata_donor.obs\n",
    "adata_donor.obs[\"predicted_labels\"] = final_predictions\n",
    "adata_donor.obs = pd.concat([adata_donor.obs, probabilities_df], axis=1)\n",
    "\n",
    "# Visualize or analyze the predictions\n",
    "print(adata_donor.obs[[\"leiden\", \"predicted_labels\"]].head())"
   ]
  },
  {
   "cell_type": "code",
   "execution_count": null,
   "id": "cce01ed7-8b51-40e5-bbe0-0c4177dd7fbc",
   "metadata": {},
   "outputs": [],
   "source": [
    "adata_donor.write(\"/ix/cigcore/sbg57/multiome/donor2_stanford/241017_donor2_stanford_agg_nosecondary/outs/scRNA_male_scimilarity_corrected.h5ad\")"
   ]
  }
 ],
 "metadata": {
  "kernelspec": {
   "display_name": "Python 3 (ipykernel)",
   "language": "python",
   "name": "python3"
  },
  "language_info": {
   "codemirror_mode": {
    "name": "ipython",
    "version": 3
   },
   "file_extension": ".py",
   "mimetype": "text/x-python",
   "name": "python",
   "nbconvert_exporter": "python",
   "pygments_lexer": "ipython3",
   "version": "3.9.21"
  }
 },
 "nbformat": 4,
 "nbformat_minor": 5
}
